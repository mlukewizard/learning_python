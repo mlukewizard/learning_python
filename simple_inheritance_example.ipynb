{
 "cells": [
  {
   "cell_type": "code",
   "execution_count": 17,
   "metadata": {},
   "outputs": [],
   "source": [
    "class Person:\n",
    "    name = None\n",
    "    age = None\n",
    "    \n",
    "    def __init__(self, inputName, inputAge):\n",
    "        self.name = inputName\n",
    "        self.age = inputAge\n",
    "        \n",
    "    def sayHello(self):\n",
    "        print(\"I am \" + self.name + \" and my age is \" + str(self.age))\n",
    "\n",
    "        \n",
    "class Worker(Person):\n",
    "    def goToWork():\n",
    "        print(\"Im going to work\")\n"
   ]
  },
  {
   "cell_type": "code",
   "execution_count": 18,
   "metadata": {},
   "outputs": [
    {
     "name": "stdout",
     "output_type": "stream",
     "text": [
      "I am luke and my age is 2\n"
     ]
    }
   ],
   "source": [
    "luke = Worker('luke', 2)\n",
    "luke.sayHello()"
   ]
  },
  {
   "cell_type": "code",
   "execution_count": null,
   "metadata": {},
   "outputs": [],
   "source": []
  },
  {
   "cell_type": "code",
   "execution_count": null,
   "metadata": {},
   "outputs": [],
   "source": []
  }
 ],
 "metadata": {
  "kernelspec": {
   "display_name": "Python 3",
   "language": "python",
   "name": "python3"
  },
  "language_info": {
   "codemirror_mode": {
    "name": "ipython",
    "version": 3
   },
   "file_extension": ".py",
   "mimetype": "text/x-python",
   "name": "python",
   "nbconvert_exporter": "python",
   "pygments_lexer": "ipython3",
   "version": "3.6.5"
  }
 },
 "nbformat": 4,
 "nbformat_minor": 2
}
