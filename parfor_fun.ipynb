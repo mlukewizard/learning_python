{
 "cells": [
  {
   "cell_type": "code",
   "execution_count": 32,
   "metadata": {},
   "outputs": [
    {
     "ename": "SyntaxError",
     "evalue": "invalid syntax (<ipython-input-32-aeee908aa734>, line 37)",
     "traceback": [
      "\u001b[1;36m  File \u001b[1;32m\"<ipython-input-32-aeee908aa734>\"\u001b[1;36m, line \u001b[1;32m37\u001b[0m\n\u001b[1;33m    parfor(10, lambda x: print(x))\u001b[0m\n\u001b[1;37m         ^\u001b[0m\n\u001b[1;31mSyntaxError\u001b[0m\u001b[1;31m:\u001b[0m invalid syntax\n"
     ],
     "output_type": "error"
    }
   ],
   "source": [
    "from threading import Thread\n",
    "import time\n",
    "import math\n",
    "\n",
    "class timer():\n",
    "    __timeStarted = None\n",
    "    \n",
    "    def __init__(self):\n",
    "        self.resetTimer()\n",
    "        \n",
    "    def getElapsedTime(self):\n",
    "        #print(\"Current time is {0}\".format(time.time()))\n",
    "        #print(\"Start time is {0}\".format(self.__timeStarted))\n",
    "        return time.time() - self.__timeStarted\n",
    "\n",
    "    def resetTimer(self):\n",
    "        self.__timeStarted = time.time()\n",
    "        \n",
    "def __splitNumberIntoParts(value, parts):\n",
    "        value = float(value)\n",
    "        splits = [math.floor(i*value/parts) for i in range(1,parts+1)]\n",
    "        splits.insert(0,0)\n",
    "        return splits\n",
    "     \n",
    "\n",
    "def parFor(counterLimit, loopfunction, threads = 2):\n",
    "    forSplits = __splitNumberIntoParts(counterLimit, threads)\n",
    "    threadList = []\n",
    "    \n",
    "    for i in range(0,threads):\n",
    "        def threadLoop():\n",
    "            for i in range(forSplits[i], forSplits[i+1]):\n",
    "                loopfunction(i)\n",
    "        threadList.append(Thread(target = lambda: threadloop()\n",
    "    for thread in threadList:\n",
    "        thread.start()\n",
    "    for thread in threadList:\n",
    "        thread.join() \n",
    "\n",
    "parfor(10, lambda x: print(x))\n",
    "\n",
    "              "
   ]
  },
  {
   "cell_type": "code",
   "execution_count": 26,
   "metadata": {},
   "outputs": [
    {
     "name": "stdout",
     "output_type": "stream",
     "text": [
      "[0, 3, 6, 10]\n"
     ]
    }
   ],
   "source": [
    "print(__splitNumberIntoParts(10,3)"
   ]
  },
  {
   "cell_type": "code",
   "execution_count": null,
   "metadata": {},
   "outputs": [],
   "source": []
  }
 ],
 "metadata": {
  "kernelspec": {
   "display_name": "Python 3",
   "language": "python",
   "name": "python3"
  },
  "language_info": {
   "codemirror_mode": {
    "name": "ipython",
    "version": 3
   },
   "file_extension": ".py",
   "mimetype": "text/x-python",
   "name": "python",
   "nbconvert_exporter": "python",
   "pygments_lexer": "ipython3",
   "version": "3.6.5"
  }
 },
 "nbformat": 4,
 "nbformat_minor": 2
}
