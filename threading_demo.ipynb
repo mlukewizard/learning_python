{
 "cells": [
  {
   "cell_type": "code",
   "execution_count": 23,
   "metadata": {},
   "outputs": [
    {
     "name": "stdout",
     "output_type": "stream",
     "text": [
      "Timer: Timer1 startedTimer: Timer2 started\n",
      "\n",
      "Timer1: Fri Aug  3 11:44:51 2018\n",
      "Timer2: Fri Aug  3 11:44:52 2018\n",
      "Timer1: Fri Aug  3 11:44:52 2018\n",
      "Timer1: Fri Aug  3 11:44:53 2018\n",
      "Timer2: Fri Aug  3 11:44:54 2018\n",
      "Timer1: Fri Aug  3 11:44:54 2018\n",
      "Timer1: Fri Aug  3 11:44:55 2018\n",
      "Timer: Timer1 completed\n",
      "Timer2: Fri Aug  3 11:44:56 2018\n",
      "Timer2: Fri Aug  3 11:44:58 2018\n",
      "Timer2: Fri Aug  3 11:45:00 2018\n",
      "Timer: Timer2 completed\n",
      "Synchronous time is 10.028211116790771\n",
      "Timer: Timer1 started\n",
      "Timer1: Fri Aug  3 11:45:01 2018\n",
      "Timer1: Fri Aug  3 11:45:02 2018\n",
      "Timer1: Fri Aug  3 11:45:03 2018\n",
      "Timer1: Fri Aug  3 11:45:04 2018\n",
      "Timer1: Fri Aug  3 11:45:05 2018\n",
      "Timer: Timer1 completed\n",
      "Timer: Timer2 started\n",
      "Timer2: Fri Aug  3 11:45:07 2018\n",
      "Timer2: Fri Aug  3 11:45:09 2018\n",
      "Timer2: Fri Aug  3 11:45:11 2018\n",
      "Timer2: Fri Aug  3 11:45:13 2018\n",
      "Timer2: Fri Aug  3 11:45:15 2018\n",
      "Timer: Timer2 completed\n",
      "Asynchronous time is 15.004321098327637\n"
     ]
    }
   ],
   "source": [
    "from threading import Thread\n",
    "import time\n",
    "\n",
    "class timer():\n",
    "    __timeStarted = None\n",
    "    \n",
    "    def __init__(self):\n",
    "        self.resetTimer()\n",
    "        \n",
    "    def getElapsedTime(self):\n",
    "        #print(\"Current time is {0}\".format(time.time()))\n",
    "        #print(\"Start time is {0}\".format(self.__timeStarted))\n",
    "        return time.time() - self.__timeStarted\n",
    "\n",
    "    def resetTimer(self):\n",
    "        self.__timeStarted = time.time()\n",
    "    \n",
    "def loopTimer(name, delay, repeat):\n",
    "    print(\"Timer: {0} started\".format(name))\n",
    "    while repeat > 0:\n",
    "        time.sleep(delay)\n",
    "        print(\"{0}: {1}\".format(name, time.ctime(time.time())))\n",
    "        repeat -= 1\n",
    "    print(\"Timer: {0} completed\".format(name))\n",
    "    \n",
    "def runTimersSynchronously():\n",
    "    myTimer = timer()\n",
    "    t1 = Thread(target = lambda: loopTimer(\"Timer1\", 1, 5))\n",
    "    t2 = Thread(target = lambda: loopTimer(\"Timer2\", 2, 5))\n",
    "\n",
    "    t1.start()\n",
    "    t2.start()\n",
    "    \n",
    "    t1.join()\n",
    "    t2.join()\n",
    "    print(\"Synchronous time is {0}\".format(myTimer.getElapsedTime()))\n",
    "    \n",
    "def runTimersAsynchronously():\n",
    "    myTimer = timer()\n",
    "    loopTimer(\"Timer1\", 1, 5)\n",
    "    loopTimer(\"Timer2\", 2, 5)\n",
    "    print(\"Asynchronous time is {0}\".format(myTimer.getElapsedTime()))\n",
    "    \n",
    "runTimersSynchronously()\n",
    "runTimersAsynchronously()\n",
    "\n",
    "              "
   ]
  }
 ],
 "metadata": {
  "kernelspec": {
   "display_name": "Python 3",
   "language": "python",
   "name": "python3"
  },
  "language_info": {
   "codemirror_mode": {
    "name": "ipython",
    "version": 3
   },
   "file_extension": ".py",
   "mimetype": "text/x-python",
   "name": "python",
   "nbconvert_exporter": "python",
   "pygments_lexer": "ipython3",
   "version": "3.6.5"
  }
 },
 "nbformat": 4,
 "nbformat_minor": 2
}
