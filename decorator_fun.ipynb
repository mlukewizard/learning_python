{
 "cells": [
  {
   "cell_type": "code",
   "execution_count": 12,
   "metadata": {},
   "outputs": [
    {
     "name": "stdout",
     "output_type": "stream",
     "text": [
      "<p><x>luke</x></p>\n"
     ]
    }
   ],
   "source": [
    "def p_decorate(func):\n",
    "    # the inner function should always be called func_wrapper, it is arbitrary and local so there is no reason to change it\n",
    "    # func_wrapper should always take the same number of arguemnts as the function which is going to be decoratedf\n",
    "    def func_wrapper(inner_name):\n",
    "        return \"<p>{0}</p>\".format(func(inner_name))\n",
    "    return func_wrapper\n",
    "\n",
    "def x_decorate(func):\n",
    "   def func_wrapper(inner_name):\n",
    "       return \"<x>{0}</x>\".format(func(inner_name))\n",
    "   return func_wrapper\n",
    "\n",
    "@p_decorate\n",
    "@x_decorate\n",
    "def return_name(name):\n",
    "    return name\n",
    "\n",
    "print(return_name(\"luke\"))"
   ]
  },
  {
   "cell_type": "code",
   "execution_count": 13,
   "metadata": {},
   "outputs": [
    {
     "name": "stdout",
     "output_type": "stream",
     "text": [
      "hi\n",
      "Incorrect Type\n",
      "1\n",
      "Correct Type\n"
     ]
    },
    {
     "data": {
      "text/plain": [
       "1"
      ]
     },
     "execution_count": 13,
     "metadata": {},
     "output_type": "execute_result"
    }
   ],
   "source": [
    "# this top level function \n",
    "def check_output_is_of_type(my_type):\n",
    "    def decorator(func):\n",
    "        def decorated(inner_name):\n",
    "            ret_val = func(inner_name)\n",
    "            if type(ret_val) == my_type:\n",
    "                print(\"Correct Type\")\n",
    "            else:\n",
    "                print(\"Incorrect Type\")\n",
    "            return ret_val\n",
    "        return decorated\n",
    "    return decorator\n",
    "\n",
    "@check_output_is_of_type(int)\n",
    "def return_input(input_arg):\n",
    "    print(input_arg)\n",
    "    return input_arg\n",
    "\n",
    "return_input(\"hi\")\n",
    "return_input(1)"
   ]
  },
  {
   "cell_type": "code",
   "execution_count": null,
   "metadata": {},
   "outputs": [],
   "source": []
  }
 ],
 "metadata": {
  "kernelspec": {
   "display_name": "Python 3",
   "language": "python",
   "name": "python3"
  },
  "language_info": {
   "codemirror_mode": {
    "name": "ipython",
    "version": 3
   },
   "file_extension": ".py",
   "mimetype": "text/x-python",
   "name": "python",
   "nbconvert_exporter": "python",
   "pygments_lexer": "ipython3",
   "version": "3.6.5"
  }
 },
 "nbformat": 4,
 "nbformat_minor": 2
}
