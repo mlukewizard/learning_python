{
 "cells": [
  {
   "cell_type": "code",
   "execution_count": 7,
   "metadata": {},
   "outputs": [],
   "source": [
    "class person:\n",
    "    def __init__(self, **kwargs):\n",
    "        print(kwargs)\n",
    "        if kwargs is not None:\n",
    "            for key, value in kwargs.items():\n",
    "                setattr(self, key, value)\n",
    "                \n",
    "    def __repr__(self):\n",
    "        printString = str()\n",
    "        for key, attribute in vars(self).items():\n",
    "            printString += \"key: {0}, value: {1}\\n\".format(key, attribute)\n",
    "        return printString"
   ]
  },
  {
   "cell_type": "code",
   "execution_count": 8,
   "metadata": {},
   "outputs": [
    {
     "name": "stdout",
     "output_type": "stream",
     "text": [
      "{'name': 'luke', 'age': 7}\n",
      "key: name, value: luke\n",
      "key: age, value: 7\n",
      "\n"
     ]
    }
   ],
   "source": [
    "x = person(name=\"luke\", age = 7)\n",
    "print(x)"
   ]
  },
  {
   "cell_type": "code",
   "execution_count": 85,
   "metadata": {},
   "outputs": [
    {
     "data": {
      "text/plain": [
       "'luke'"
      ]
     },
     "execution_count": 85,
     "metadata": {},
     "output_type": "execute_result"
    }
   ],
   "source": [
    "y = person(friend = x, name = \"john\")\n",
    "getattr(getattr(y, 'friend', None), 'name', 'noFriends')"
   ]
  }
 ],
 "metadata": {
  "kernelspec": {
   "display_name": "Python 3",
   "language": "python",
   "name": "python3"
  },
  "language_info": {
   "codemirror_mode": {
    "name": "ipython",
    "version": 3
   },
   "file_extension": ".py",
   "mimetype": "text/x-python",
   "name": "python",
   "nbconvert_exporter": "python",
   "pygments_lexer": "ipython3",
   "version": "3.6.5"
  }
 },
 "nbformat": 4,
 "nbformat_minor": 2
}
