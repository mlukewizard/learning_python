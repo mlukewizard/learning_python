{
 "cells": [
  {
   "cell_type": "code",
   "execution_count": 4,
   "metadata": {},
   "outputs": [
    {
     "name": "stdout",
     "output_type": "stream",
     "text": [
      "[1, 2]\n"
     ]
    }
   ],
   "source": [
    "# Lists are mutable\n",
    "\n",
    "def add_2_to_list(my_list):\n",
    "    my_list.append(2)\n",
    "    \n",
    "list_1 = [1]\n",
    "\n",
    "add_2_to_list(list_1)\n",
    "\n",
    "print(list_1)"
   ]
  },
  {
   "cell_type": "code",
   "execution_count": 1,
   "metadata": {},
   "outputs": [
    {
     "name": "stdout",
     "output_type": "stream",
     "text": [
      "[1. 2.]\n",
      "[1.]\n"
     ]
    }
   ],
   "source": [
    "# Numpy arrays are immutable\n",
    "\n",
    "import numpy as np\n",
    "\n",
    "def add_2_to_numpy_array(my_np_array):\n",
    "    print(np.append(my_np_array, 2))\n",
    "    \n",
    "np_array_1 = np.ones([1])\n",
    "\n",
    "add_2_to_numpy_array(np_array_1)\n",
    "\n",
    "print(np_array_1)"
   ]
  },
  {
   "cell_type": "code",
   "execution_count": null,
   "metadata": {},
   "outputs": [],
   "source": []
  }
 ],
 "metadata": {
  "kernelspec": {
   "display_name": "Python 3",
   "language": "python",
   "name": "python3"
  },
  "language_info": {
   "codemirror_mode": {
    "name": "ipython",
    "version": 3
   },
   "file_extension": ".py",
   "mimetype": "text/x-python",
   "name": "python",
   "nbconvert_exporter": "python",
   "pygments_lexer": "ipython3",
   "version": "3.6.5"
  }
 },
 "nbformat": 4,
 "nbformat_minor": 2
}
